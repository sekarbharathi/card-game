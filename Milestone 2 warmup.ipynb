{
 "cells": [
  {
   "cell_type": "code",
   "execution_count": 2,
   "id": "a198bd23-52bc-478a-b8b9-d6ed6bc2c4b1",
   "metadata": {},
   "outputs": [],
   "source": [
    "#card class\n",
    "\n",
    "# Suit/ Rank/ Values\n",
    "\n",
    "import random #for shuffle\n",
    "\n",
    "#Global variable\n",
    "\n",
    "#Tuples to iterate \n",
    "\n",
    "suits = ('Hearts', 'Diamonds', 'Spades', 'Clubs')\n",
    "ranks = ('Two', 'Three', 'Four', 'Five', 'Six', 'Seven', 'Eight', 'Nine', 'Ten', 'Jack', 'Queen', 'King', 'Ace')\n",
    "\n",
    "#Dictionaries\n",
    "\n",
    "values = {'Two':2, 'Three':3, 'Four':4, 'Five':5, 'Six':6, 'Seven':7, 'Eight':8, \n",
    "            'Nine':9, 'Ten':10, 'Jack':11, 'Queen':12, 'King':13, 'Ace':14}"
   ]
  },
  {
   "cell_type": "code",
   "execution_count": 3,
   "id": "c10189e7-0322-4fee-be6e-d2601ddea08f",
   "metadata": {},
   "outputs": [],
   "source": [
    "class Card():\n",
    "    def __init__(self,suit,rank):\n",
    "        self.suit = suit\n",
    "        self.rank = rank\n",
    "        self.values = values[rank] # we cannot compare rank since it is a string . From dictionaries we created as global we can compare\n",
    "    \n",
    "    def __str__(self):\n",
    "        return self.rank + \" of \" + self.suit\n",
    "        "
   ]
  },
  {
   "cell_type": "code",
   "execution_count": 4,
   "id": "d1b8e150-1bb0-44b3-a66f-a490de4ef6eb",
   "metadata": {},
   "outputs": [],
   "source": [
    "two_hearts = Card(\"Hearts\" , \"Two\")  #instance"
   ]
  },
  {
   "cell_type": "code",
   "execution_count": 5,
   "id": "64643c9c-91c9-47d7-9dc6-d4eba13e7f8a",
   "metadata": {},
   "outputs": [
    {
     "data": {
      "text/plain": [
       "<__main__.Card at 0x1fc9b9d6f90>"
      ]
     },
     "execution_count": 5,
     "metadata": {},
     "output_type": "execute_result"
    }
   ],
   "source": [
    "two_hearts"
   ]
  },
  {
   "cell_type": "code",
   "execution_count": 6,
   "id": "85ec4d2b-fda3-43af-b535-1db281216a91",
   "metadata": {},
   "outputs": [
    {
     "data": {
      "text/plain": [
       "'Two'"
      ]
     },
     "execution_count": 6,
     "metadata": {},
     "output_type": "execute_result"
    }
   ],
   "source": [
    "two_hearts.rank"
   ]
  },
  {
   "cell_type": "code",
   "execution_count": 7,
   "id": "c67242c2-5afd-4d79-b179-2be03ccde4bd",
   "metadata": {},
   "outputs": [
    {
     "data": {
      "text/plain": [
       "'Hearts'"
      ]
     },
     "execution_count": 7,
     "metadata": {},
     "output_type": "execute_result"
    }
   ],
   "source": [
    "two_hearts.suit"
   ]
  },
  {
   "cell_type": "code",
   "execution_count": 8,
   "id": "c84b014c-347c-465c-a7ae-033ddc878e05",
   "metadata": {},
   "outputs": [
    {
     "data": {
      "text/plain": [
       "2"
      ]
     },
     "execution_count": 8,
     "metadata": {},
     "output_type": "execute_result"
    }
   ],
   "source": [
    "two_hearts.values"
   ]
  },
  {
   "cell_type": "code",
   "execution_count": 9,
   "id": "edbe58bc-97d4-40ca-84fe-62b0ebc9cd7e",
   "metadata": {},
   "outputs": [
    {
     "name": "stdout",
     "output_type": "stream",
     "text": [
      "Two of Hearts\n"
     ]
    }
   ],
   "source": [
    "print(two_hearts)"
   ]
  },
  {
   "cell_type": "code",
   "execution_count": 10,
   "id": "a029eca6-ca75-4a46-907b-90d26f0b3863",
   "metadata": {},
   "outputs": [
    {
     "data": {
      "text/plain": [
       "'Two of Hearts'"
      ]
     },
     "execution_count": 10,
     "metadata": {},
     "output_type": "execute_result"
    }
   ],
   "source": [
    "str(two_hearts)"
   ]
  },
  {
   "cell_type": "code",
   "execution_count": 11,
   "id": "62932d75-2a04-4763-a994-e3f39ced8af9",
   "metadata": {},
   "outputs": [],
   "source": [
    "three_diamonds = Card(\"Diamonds\" , \"Three\")"
   ]
  },
  {
   "cell_type": "code",
   "execution_count": 12,
   "id": "d38e97e3-cb64-4906-a3d2-45aa268059d3",
   "metadata": {},
   "outputs": [
    {
     "data": {
      "text/plain": [
       "True"
      ]
     },
     "execution_count": 12,
     "metadata": {},
     "output_type": "execute_result"
    }
   ],
   "source": [
    "two_hearts.values < three_diamonds.values"
   ]
  },
  {
   "cell_type": "code",
   "execution_count": 13,
   "id": "4d60226a-67b2-402d-bb00-fd926c2d8598",
   "metadata": {},
   "outputs": [
    {
     "ename": "TypeError",
     "evalue": "'<' not supported between instances of 'Card' and 'Card'",
     "output_type": "error",
     "traceback": [
      "\u001b[1;31m---------------------------------------------------------------------------\u001b[0m",
      "\u001b[1;31mTypeError\u001b[0m                                 Traceback (most recent call last)",
      "Cell \u001b[1;32mIn[13], line 1\u001b[0m\n\u001b[1;32m----> 1\u001b[0m two_hearts \u001b[38;5;241m<\u001b[39m three_diamonds\n",
      "\u001b[1;31mTypeError\u001b[0m: '<' not supported between instances of 'Card' and 'Card'"
     ]
    }
   ],
   "source": [
    "two_hearts < three_diamonds #cannot compare instace of the class"
   ]
  },
  {
   "cell_type": "code",
   "execution_count": 14,
   "id": "20735a8c-5af9-40d1-af8b-0bddc52ee105",
   "metadata": {},
   "outputs": [
    {
     "ename": "KeyError",
     "evalue": "'two'",
     "output_type": "error",
     "traceback": [
      "\u001b[1;31m---------------------------------------------------------------------------\u001b[0m",
      "\u001b[1;31mKeyError\u001b[0m                                  Traceback (most recent call last)",
      "Cell \u001b[1;32mIn[14], line 1\u001b[0m\n\u001b[1;32m----> 1\u001b[0m two_hearts \u001b[38;5;241m=\u001b[39m Card(\u001b[38;5;124m\"\u001b[39m\u001b[38;5;124mHearts\u001b[39m\u001b[38;5;124m\"\u001b[39m , \u001b[38;5;124m\"\u001b[39m\u001b[38;5;124mtwo\u001b[39m\u001b[38;5;124m\"\u001b[39m)\n",
      "Cell \u001b[1;32mIn[3], line 5\u001b[0m, in \u001b[0;36mCard.__init__\u001b[1;34m(self, suit, rank)\u001b[0m\n\u001b[0;32m      3\u001b[0m \u001b[38;5;28mself\u001b[39m\u001b[38;5;241m.\u001b[39msuit \u001b[38;5;241m=\u001b[39m suit\n\u001b[0;32m      4\u001b[0m \u001b[38;5;28mself\u001b[39m\u001b[38;5;241m.\u001b[39mrank \u001b[38;5;241m=\u001b[39m rank\n\u001b[1;32m----> 5\u001b[0m \u001b[38;5;28mself\u001b[39m\u001b[38;5;241m.\u001b[39mvalues \u001b[38;5;241m=\u001b[39m values[rank]\n",
      "\u001b[1;31mKeyError\u001b[0m: 'two'"
     ]
    }
   ],
   "source": [
    "two_hearts = Card(\"Hearts\" , \"two\")"
   ]
  },
  {
   "cell_type": "code",
   "execution_count": 15,
   "id": "1dee6d25-13cc-4c8c-9962-78e0bdb34323",
   "metadata": {},
   "outputs": [],
   "source": [
    "# Deck class "
   ]
  },
  {
   "cell_type": "code",
   "execution_count": 16,
   "id": "b9f7d1c5-1d09-441d-ba11-f66c80a92437",
   "metadata": {},
   "outputs": [],
   "source": [
    "class Deck:\n",
    "    def __init__(self):  # we are not getting user input\n",
    "\n",
    "        self.all_cards = []\n",
    "        \n",
    "        for suit in suits:\n",
    "            for rank in ranks:\n",
    "                #create the card object\n",
    "                created_card = Card(suit,rank)\n",
    "                self.all_cards.append(created_card)\n",
    "                \n",
    "    def shuffle(self):             #attribute shuffled only internally. Will not return anything\n",
    "        random.shuffle(self.all_cards)\n",
    "\n",
    "    def deal_one(self):\n",
    "        # Note we remove one card from the list of all_cards\n",
    "        return self.all_cards.pop() \n",
    "                "
   ]
  },
  {
   "cell_type": "code",
   "execution_count": 17,
   "id": "accfad82-7db6-4362-a708-1587c2f4bc19",
   "metadata": {},
   "outputs": [],
   "source": [
    "new_deck = Deck()"
   ]
  },
  {
   "cell_type": "code",
   "execution_count": 18,
   "id": "d5bcdf1b-9acb-44cc-aa00-82670e553f95",
   "metadata": {},
   "outputs": [
    {
     "data": {
      "text/plain": [
       "[<__main__.Card at 0x1fc9c6a9450>,\n",
       " <__main__.Card at 0x1fc9c726250>,\n",
       " <__main__.Card at 0x1fc9c6a9350>,\n",
       " <__main__.Card at 0x1fc9c6abbd0>,\n",
       " <__main__.Card at 0x1fc9c6ab790>,\n",
       " <__main__.Card at 0x1fc9c6a8ed0>,\n",
       " <__main__.Card at 0x1fc9c6abe10>,\n",
       " <__main__.Card at 0x1fc9c6abed0>,\n",
       " <__main__.Card at 0x1fc9c6abc90>,\n",
       " <__main__.Card at 0x1fc9c6abcd0>,\n",
       " <__main__.Card at 0x1fc9c6a9750>,\n",
       " <__main__.Card at 0x1fc9c6a9a90>,\n",
       " <__main__.Card at 0x1fc9c6ab9d0>,\n",
       " <__main__.Card at 0x1fc9c6aaf10>,\n",
       " <__main__.Card at 0x1fc9c6a8350>,\n",
       " <__main__.Card at 0x1fc9c68eed0>,\n",
       " <__main__.Card at 0x1fc9c68f110>,\n",
       " <__main__.Card at 0x1fc9c68d1d0>,\n",
       " <__main__.Card at 0x1fc9c68d050>,\n",
       " <__main__.Card at 0x1fc9c68f5d0>,\n",
       " <__main__.Card at 0x1fc9c68de90>,\n",
       " <__main__.Card at 0x1fc9c68eb50>,\n",
       " <__main__.Card at 0x1fc9c68f590>,\n",
       " <__main__.Card at 0x1fc9c68f1d0>,\n",
       " <__main__.Card at 0x1fc9c6f7710>,\n",
       " <__main__.Card at 0x1fc9c6f76d0>,\n",
       " <__main__.Card at 0x1fc9c6f7550>,\n",
       " <__main__.Card at 0x1fc9c6f7650>,\n",
       " <__main__.Card at 0x1fc9c6f7a50>,\n",
       " <__main__.Card at 0x1fc9c6f7a90>,\n",
       " <__main__.Card at 0x1fc9c6f7590>,\n",
       " <__main__.Card at 0x1fc9c6f7dd0>,\n",
       " <__main__.Card at 0x1fc9c6f74d0>,\n",
       " <__main__.Card at 0x1fc9c6f7510>,\n",
       " <__main__.Card at 0x1fc9c6f7ad0>,\n",
       " <__main__.Card at 0x1fc9c6f7b90>,\n",
       " <__main__.Card at 0x1fc9c6f7e10>,\n",
       " <__main__.Card at 0x1fc9c6f7b10>,\n",
       " <__main__.Card at 0x1fc9c6f7810>,\n",
       " <__main__.Card at 0x1fc9c6f7d50>,\n",
       " <__main__.Card at 0x1fc9c6f7bd0>,\n",
       " <__main__.Card at 0x1fc9c6f7cd0>,\n",
       " <__main__.Card at 0x1fc9c6f7f90>,\n",
       " <__main__.Card at 0x1fc9c6f7d10>,\n",
       " <__main__.Card at 0x1fc9c6f7c10>,\n",
       " <__main__.Card at 0x1fc9c6f7fd0>,\n",
       " <__main__.Card at 0x1fc9c6f7890>,\n",
       " <__main__.Card at 0x1fc9c6f7f50>,\n",
       " <__main__.Card at 0x1fc9c6f7ed0>,\n",
       " <__main__.Card at 0x1fc9c6f79d0>,\n",
       " <__main__.Card at 0x1fc9c6f7f10>,\n",
       " <__main__.Card at 0x1fc9c6f7e50>]"
      ]
     },
     "execution_count": 18,
     "metadata": {},
     "output_type": "execute_result"
    }
   ],
   "source": [
    "new_deck.all_cards"
   ]
  },
  {
   "cell_type": "code",
   "execution_count": 19,
   "id": "0401a88d-b3a1-42c8-9ee2-44689522e31b",
   "metadata": {},
   "outputs": [
    {
     "name": "stdout",
     "output_type": "stream",
     "text": [
      "Two of Hearts\n",
      "Three of Hearts\n",
      "Four of Hearts\n",
      "Five of Hearts\n",
      "Six of Hearts\n",
      "Seven of Hearts\n",
      "Eight of Hearts\n",
      "Nine of Hearts\n",
      "Ten of Hearts\n",
      "Jack of Hearts\n",
      "Queen of Hearts\n",
      "King of Hearts\n",
      "Ace of Hearts\n",
      "Two of Diamonds\n",
      "Three of Diamonds\n",
      "Four of Diamonds\n",
      "Five of Diamonds\n",
      "Six of Diamonds\n",
      "Seven of Diamonds\n",
      "Eight of Diamonds\n",
      "Nine of Diamonds\n",
      "Ten of Diamonds\n",
      "Jack of Diamonds\n",
      "Queen of Diamonds\n",
      "King of Diamonds\n",
      "Ace of Diamonds\n",
      "Two of Spades\n",
      "Three of Spades\n",
      "Four of Spades\n",
      "Five of Spades\n",
      "Six of Spades\n",
      "Seven of Spades\n",
      "Eight of Spades\n",
      "Nine of Spades\n",
      "Ten of Spades\n",
      "Jack of Spades\n",
      "Queen of Spades\n",
      "King of Spades\n",
      "Ace of Spades\n",
      "Two of Clubs\n",
      "Three of Clubs\n",
      "Four of Clubs\n",
      "Five of Clubs\n",
      "Six of Clubs\n",
      "Seven of Clubs\n",
      "Eight of Clubs\n",
      "Nine of Clubs\n",
      "Ten of Clubs\n",
      "Jack of Clubs\n",
      "Queen of Clubs\n",
      "King of Clubs\n",
      "Ace of Clubs\n"
     ]
    }
   ],
   "source": [
    "for card_object in new_deck.all_cards:\n",
    "    print(card_object)"
   ]
  },
  {
   "cell_type": "code",
   "execution_count": 20,
   "id": "3c4c49e7-b266-4b25-9f32-757665e65800",
   "metadata": {},
   "outputs": [],
   "source": [
    "bottom_card = new_deck.all_cards[-1]"
   ]
  },
  {
   "cell_type": "code",
   "execution_count": 21,
   "id": "5144c97e-18bf-4df2-ada2-ed4eb5f42e61",
   "metadata": {},
   "outputs": [
    {
     "name": "stdout",
     "output_type": "stream",
     "text": [
      "Ace of Clubs\n"
     ]
    }
   ],
   "source": [
    "print(bottom_card)"
   ]
  },
  {
   "cell_type": "code",
   "execution_count": 22,
   "id": "9ca41afb-aaf3-48d1-9bfc-1b89d7647c26",
   "metadata": {},
   "outputs": [],
   "source": [
    "list = [1,2,3,4]"
   ]
  },
  {
   "cell_type": "code",
   "execution_count": 23,
   "id": "f4851a2b-df5a-4eff-9d5f-38b4a9852397",
   "metadata": {},
   "outputs": [],
   "source": [
    "my_list = random.shuffle(list)"
   ]
  },
  {
   "cell_type": "code",
   "execution_count": 24,
   "id": "497a4a28-2275-46c1-b564-f313a9ce8b7e",
   "metadata": {},
   "outputs": [],
   "source": [
    "my_list  # shuffle will not return anything . It is a none data type"
   ]
  },
  {
   "cell_type": "code",
   "execution_count": 25,
   "id": "2577a81e-1f13-406f-b0b0-1836a4ddd814",
   "metadata": {},
   "outputs": [],
   "source": [
    "new_deck.shuffle()"
   ]
  },
  {
   "cell_type": "code",
   "execution_count": 26,
   "id": "99af3cbc-b97e-497c-add5-50cb850d3d01",
   "metadata": {},
   "outputs": [],
   "source": [
    "bottom_card = new_deck.all_cards[-1]"
   ]
  },
  {
   "cell_type": "code",
   "execution_count": 27,
   "id": "2e1da63d-246d-4c55-9c23-20cc92fdb01b",
   "metadata": {},
   "outputs": [
    {
     "name": "stdout",
     "output_type": "stream",
     "text": [
      "Ace of Spades\n"
     ]
    }
   ],
   "source": [
    "print(bottom_card)"
   ]
  },
  {
   "cell_type": "code",
   "execution_count": 28,
   "id": "1db0795c-bad9-44df-9f4c-6f566766bee9",
   "metadata": {},
   "outputs": [
    {
     "data": {
      "text/plain": [
       "<__main__.Card at 0x1fc9c6f7810>"
      ]
     },
     "execution_count": 28,
     "metadata": {},
     "output_type": "execute_result"
    }
   ],
   "source": [
    "new_deck.deal_one()"
   ]
  },
  {
   "cell_type": "code",
   "execution_count": 29,
   "id": "0c9c748e-804b-4d7b-8670-c68c7398c0c3",
   "metadata": {},
   "outputs": [
    {
     "data": {
      "text/plain": [
       "51"
      ]
     },
     "execution_count": 29,
     "metadata": {},
     "output_type": "execute_result"
    }
   ],
   "source": [
    "len(new_deck.all_cards)"
   ]
  },
  {
   "cell_type": "code",
   "execution_count": 30,
   "id": "415d337c-6399-4a60-b95e-759648943bdb",
   "metadata": {},
   "outputs": [],
   "source": [
    "#Player Class"
   ]
  },
  {
   "cell_type": "code",
   "execution_count": 31,
   "id": "62fd90c8-614b-4cdc-b6e4-ae6f2e5a7123",
   "metadata": {},
   "outputs": [],
   "source": [
    "class Player:\n",
    "    \n",
    "    def __init__(self,name): #name of the player\n",
    "        self.name = name\n",
    "        self.all_cards = []\n",
    "        \n",
    "    def remove_one(self):    \n",
    "        return self.all_cards.pop(0)\n",
    "        \n",
    "    def add_cards(self,new_cards):\n",
    "        \n",
    "        #list of multiple crads\n",
    "        if type(new_cards) == type([]):\n",
    "            self.all_cards.extend(new_cards)\n",
    "\n",
    "        #for single card objects\n",
    "        else:\n",
    "            self.all_cards.append(new_cards)\n",
    "            \n",
    "        \n",
    "    def __str__(self):\n",
    "        return f'Player {self.name} has {len(self.all_cards)} cards'"
   ]
  },
  {
   "cell_type": "code",
   "execution_count": 32,
   "id": "1d22f853-02a0-44e2-ae2b-c9ea4d0a162c",
   "metadata": {},
   "outputs": [],
   "source": [
    "new_player = Player(\"Bharu\")"
   ]
  },
  {
   "cell_type": "code",
   "execution_count": 33,
   "id": "9c2fbef0-ec8d-4523-986a-4319e0fee9b7",
   "metadata": {},
   "outputs": [
    {
     "name": "stdout",
     "output_type": "stream",
     "text": [
      "Player Bharu has 0 cards\n"
     ]
    }
   ],
   "source": [
    "print(new_player)"
   ]
  },
  {
   "cell_type": "code",
   "execution_count": 34,
   "id": "8efe7d40-f703-41b2-bfa4-31d93182728b",
   "metadata": {},
   "outputs": [],
   "source": [
    "new_player.add_cards(bottom_card) #created above"
   ]
  },
  {
   "cell_type": "code",
   "execution_count": 35,
   "id": "3056c1f3-ee02-40ef-8388-91e97bd3d98b",
   "metadata": {},
   "outputs": [
    {
     "name": "stdout",
     "output_type": "stream",
     "text": [
      "Player Bharu has 1 cards\n"
     ]
    }
   ],
   "source": [
    "print(new_player)"
   ]
  },
  {
   "cell_type": "code",
   "execution_count": 36,
   "id": "27c133b4-c842-4fc3-8c67-41329b770244",
   "metadata": {},
   "outputs": [
    {
     "name": "stdout",
     "output_type": "stream",
     "text": [
      "Ace of Spades\n"
     ]
    }
   ],
   "source": [
    "print(new_player.all_cards[0])"
   ]
  },
  {
   "cell_type": "code",
   "execution_count": 37,
   "id": "1d75bc62-0dcc-45be-85c5-abaeb4761cfe",
   "metadata": {},
   "outputs": [],
   "source": [
    "new_player.add_cards([bottom_card,bottom_card,bottom_card,bottom_card])"
   ]
  },
  {
   "cell_type": "code",
   "execution_count": 38,
   "id": "c6663825-bc4c-4017-be7f-6c3927856de5",
   "metadata": {},
   "outputs": [
    {
     "name": "stdout",
     "output_type": "stream",
     "text": [
      "Player Bharu has 5 cards\n"
     ]
    }
   ],
   "source": [
    "print(new_player)"
   ]
  },
  {
   "cell_type": "code",
   "execution_count": 39,
   "id": "c6557eae-6bdd-419e-b289-d6e343fab2fa",
   "metadata": {},
   "outputs": [
    {
     "data": {
      "text/plain": [
       "<__main__.Card at 0x1fc9c6f7810>"
      ]
     },
     "execution_count": 39,
     "metadata": {},
     "output_type": "execute_result"
    }
   ],
   "source": [
    "new_player.remove_one()"
   ]
  },
  {
   "cell_type": "code",
   "execution_count": 40,
   "id": "f418df03-dd96-47bb-bf84-029ea7cccba9",
   "metadata": {},
   "outputs": [
    {
     "name": "stdout",
     "output_type": "stream",
     "text": [
      "Player Bharu has 4 cards\n"
     ]
    }
   ],
   "source": [
    "print(new_player)"
   ]
  },
  {
   "cell_type": "code",
   "execution_count": 41,
   "id": "768bb978-258a-40b7-a6fe-ab52a8382775",
   "metadata": {},
   "outputs": [],
   "source": [
    "#Game Logic"
   ]
  },
  {
   "cell_type": "code",
   "execution_count": 42,
   "id": "4b9e156e-5c34-44b9-bb9b-1181fac97e55",
   "metadata": {},
   "outputs": [],
   "source": [
    "player_one = Player(\"One\")\n",
    "player_two = Player(\"Two\")\n",
    "\n",
    "new_deck = Deck()\n",
    "new_deck.shuffle #shuffling the cards\n",
    "\n",
    " #splitting in half\n",
    "for x in range(26):\n",
    "    player_one.add_cards(new_deck.deal_one())\n",
    "    player_two.add_cards(new_deck.deal_one())\n",
    "    "
   ]
  },
  {
   "cell_type": "code",
   "execution_count": 43,
   "id": "127fd400-0bd2-4f95-9d4a-e3d476829db9",
   "metadata": {},
   "outputs": [
    {
     "data": {
      "text/plain": [
       "26"
      ]
     },
     "execution_count": 43,
     "metadata": {},
     "output_type": "execute_result"
    }
   ],
   "source": [
    "len(player_one.all_cards)"
   ]
  },
  {
   "cell_type": "code",
   "execution_count": 44,
   "id": "564b89ca-fabf-4577-9724-9d8981225d11",
   "metadata": {},
   "outputs": [
    {
     "name": "stdout",
     "output_type": "stream",
     "text": [
      "Ace of Clubs\n"
     ]
    }
   ],
   "source": [
    "print(player_one.all_cards[0])"
   ]
  },
  {
   "cell_type": "code",
   "execution_count": 45,
   "id": "3bb703ef-2289-448e-81f2-a421203876ef",
   "metadata": {},
   "outputs": [],
   "source": [
    "game_on = True"
   ]
  },
  {
   "cell_type": "code",
   "execution_count": 48,
   "id": "9ad0d37a-48d9-4ab2-8a3b-6f3096499d58",
   "metadata": {},
   "outputs": [],
   "source": [
    "round_num = 0\n",
    "\n",
    "#While loop\n",
    "\n",
    "while game_on:\n",
    "    round_num += 1\n",
    "    print( f\"Round {round_num}\")\n",
    "    #win check\n",
    "    if len(player_one.all_cards) == 0:\n",
    "        print(\"Player 1 out of cards, Player 2 wins!\")\n",
    "        game_on = False\n",
    "        break       \n",
    "        \n",
    "    if len(player_two.all_cards) == 0:\n",
    "        print(\"Player 2 out of cards, Player 1 wins!\")\n",
    "        game_on = False\n",
    "        break\n",
    "        \n",
    "    #If no win time to start a New round\n",
    "    #cards each player draw to compete\n",
    "    \n",
    "    player_one_cards = []\n",
    "    player_one_cards.append(player_one.remove_one())\n",
    "    \n",
    "    player_two_cards = []\n",
    "    player_two_cards.append(player_two.remove_one())\n",
    "    \n",
    "    #while loop when at war\n",
    "    at_war = True\n",
    "\n",
    "    while at_war:\n",
    "        if player_one_cards[-1].values > player_two_cards[-1].values:\n",
    "            player_one.add_cards(player_one_cards)\n",
    "            player_one.add_cards(player_two_cards) \n",
    "            at_war= False\n",
    "            \n",
    "        elif player_one_cards[-1].values < player_two_cards[-1].values:\n",
    "            player_two.add_cards(player_one_cards)\n",
    "            player_two.add_cards(player_two_cards) \n",
    "            at_war = False\n",
    "        \n",
    "        else: # if it is equal then it is war\n",
    "            if len(player_one.all_cards) < 5:\n",
    "                print(\"Player 1 unable to declare war\")\n",
    "                print(\"Player 2 wins\")\n",
    "                game_on=False\n",
    "                break\n",
    "\n",
    "            elif len(player_two.all_cards) < 5:\n",
    "                print(\"Player 2 unable to declare war\")\n",
    "                print(\"Player 1 wins\")\n",
    "                game_on=False\n",
    "                break\n",
    "                \n",
    "            else:\n",
    "                for x in range(5):\n",
    "                    player_one_cards.append(player_one.remove_one())\n",
    "                    player_two_cards.append(player_two.remove_one())\n"
   ]
  },
  {
   "cell_type": "code",
   "execution_count": null,
   "id": "e62f6525-ca8c-483f-8889-ff90c41afdf5",
   "metadata": {},
   "outputs": [],
   "source": []
  }
 ],
 "metadata": {
  "kernelspec": {
   "display_name": "Python 3 (ipykernel)",
   "language": "python",
   "name": "python3"
  },
  "language_info": {
   "codemirror_mode": {
    "name": "ipython",
    "version": 3
   },
   "file_extension": ".py",
   "mimetype": "text/x-python",
   "name": "python",
   "nbconvert_exporter": "python",
   "pygments_lexer": "ipython3",
   "version": "3.11.7"
  }
 },
 "nbformat": 4,
 "nbformat_minor": 5
}
